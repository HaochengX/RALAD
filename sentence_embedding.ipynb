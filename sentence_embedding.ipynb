{
 "cells": [
  {
   "cell_type": "code",
   "execution_count": 1,
   "metadata": {},
   "outputs": [],
   "source": [
    "from langchain.callbacks.manager import CallbackManager\n",
    "from langchain.callbacks.streaming_stdout import StreamingStdOutCallbackHandler\n",
    "from langchain.chains import LLMChain\n",
    "from langchain.prompts import PromptTemplate"
   ]
  },
  {
   "cell_type": "code",
   "execution_count": 2,
   "metadata": {},
   "outputs": [
    {
     "name": "stderr",
     "output_type": "stream",
     "text": [
      "/home/haotian/.local/lib/python3.8/site-packages/tree_sitter/__init__.py:36: FutureWarning: Language(path, name) is deprecated. Use Language(ptr, name) instead.\n",
      "  warn(\"{} is deprecated. Use {} instead.\".format(old, new), FutureWarning)\n"
     ]
    }
   ],
   "source": [
    "from langchain_community.document_loaders.generic import GenericLoader\n",
    "from langchain_community.document_loaders.parsers import LanguageParser\n",
    "from langchain_text_splitters import Language\n",
    "repo_path = \"/home/haotian/Splitted_code\"\n",
    "\n",
    "loader = GenericLoader.from_filesystem(\n",
    "    repo_path,\n",
    "    glob=\"**/*\",\n",
    "    suffixes=[\".cpp\"],\n",
    "    # exclude=[\"**/non-utf8-encoding.py\"],\n",
    "    parser=LanguageParser(language=Language.CPP, parser_threshold=500),\n",
    ")\n",
    "documents = loader.load()\n",
    "repo_path_2 = \"/home/haotian/book\"\n",
    "\n",
    "loader2 = GenericLoader.from_filesystem(\n",
    "    repo_path_2,\n",
    "    glob=\"**/*\",\n",
    "    suffixes=[\".txt\"],\n",
    "    # exclude=[\"**/non-utf8-encoding.py\"],\n",
    "    parser=LanguageParser(language=Language.CPP, parser_threshold=500),\n",
    ")\n",
    "documents2 = loader2.load()"
   ]
  },
  {
   "cell_type": "code",
   "execution_count": 6,
   "metadata": {},
   "outputs": [],
   "source": [
    "documents = documents + documents2\n"
   ]
  },
  {
   "cell_type": "code",
   "execution_count": 7,
   "metadata": {},
   "outputs": [
    {
     "data": {
      "text/plain": [
       "2452"
      ]
     },
     "execution_count": 7,
     "metadata": {},
     "output_type": "execute_result"
    }
   ],
   "source": [
    "len(documents)\n",
    "from langchain_text_splitters import RecursiveCharacterTextSplitter\n",
    "\n",
    "python_splitter = RecursiveCharacterTextSplitter.from_language(\n",
    "    language=Language.CPP, chunk_size=1000, chunk_overlap=200\n",
    ")\n",
    "texts = python_splitter.split_documents(documents)\n",
    "len(texts)"
   ]
  },
  {
   "cell_type": "code",
   "execution_count": 8,
   "metadata": {},
   "outputs": [
    {
     "data": {
      "text/plain": [
       "array([768])"
      ]
     },
     "execution_count": 8,
     "metadata": {},
     "output_type": "execute_result"
    }
   ],
   "source": [
    "from sentence_transformers import SentenceTransformer, util\n",
    "model = SentenceTransformer(\"flax-sentence-embeddings/st-codesearch-distilroberta-base\")\n",
    "import numpy as np\n",
    "np.array(model.encode(texts[0].page_content).shape)"
   ]
  },
  {
   "cell_type": "code",
   "execution_count": 10,
   "metadata": {},
   "outputs": [],
   "source": [
    "txt = []\n",
    "for text in texts:\n",
    "    txt.append(np.array(model.encode(text.page_content)))"
   ]
  },
  {
   "cell_type": "code",
   "execution_count": 12,
   "metadata": {},
   "outputs": [],
   "source": [
    "query = '''\n",
    "void kernel_adi(int tsteps,int n,float u[60][60],float v[60][60],float p[60][60],float q[60][60])\n",
    "{\n",
    "  float DX;\n",
    "  float DY;\n",
    "  float DT;\n",
    "  float B1;\n",
    "  float B2;\n",
    "  float mul1;\n",
    "  float mul2;\n",
    "  float a;\n",
    "  float b;\n",
    "  float c;\n",
    "  float d;\n",
    "  float e;\n",
    "  float f;\n",
    "  int t;\n",
    "  int i;\n",
    "  int j;\n",
    "  \n",
    "{\n",
    "    DX = 1.0 / ((float )60);\n",
    "    DY = 1.0 / ((float )60);\n",
    "    DT = 1.0 / ((float )40);\n",
    "    B1 = 2.0;\n",
    "    B2 = 1.0;\n",
    "    mul1 = B1 * DT / (DX * DX);\n",
    "    mul2 = B2 * DT / (DY * DY);\n",
    "    a = -mul1 / 2.0;\n",
    "    b = 1.0 + mul1;\n",
    "    c = a;\n",
    "    d = -mul2 / 2.0;\n",
    "    e = 1.0 + mul2;\n",
    "    f = d;\n",
    "    \n",
    "    \n",
    "    \n",
    "    for (t = 1; t <= 40; t++) {\n",
    "//Column Sweep\n",
    "      \n",
    "      \n",
    "      \n",
    "      for (i = 1; i < 60 - 1; i++) {\n",
    "        v[0][i] = 1.0;\n",
    "        p[i][0] = 0.0;\n",
    "        q[i][0] = v[0][i];\n",
    "        \n",
    "        for (j = 1; j < 60 - 1; j++) {\n",
    "          p[i][j] = -c / (a * p[i][j - 1] + b);\n",
    "          q[i][j] = (-d * u[j][i - 1] + (1.0 + 2.0 * d) * u[j][i] - f * u[j][i + 1] - a * q[i][j - 1]) / (a * p[i][j - 1] + b);\n",
    "        }\n",
    "        v[60 - 1][i] = 1.0;\n",
    "        \n",
    "        for (j = 0; j <= 57; j++) {\n",
    "          int _in_j_0 = 58 + -1 * j;\n",
    "          v[_in_j_0][i] = p[i][_in_j_0] * v[_in_j_0 + 1][i] + q[i][_in_j_0];\n",
    "        }\n",
    "        j = 1 + -1;\n",
    "      }\n",
    "//Row Sweep\n",
    "      \n",
    "      \n",
    "      \n",
    "      for (i = 1; i < 60 - 1; i++) {\n",
    "        u[i][0] = 1.0;\n",
    "        p[i][0] = 0.0;\n",
    "        q[i][0] = u[i][0];\n",
    "        \n",
    "        for (j = 1; j < 60 - 1; j++) {\n",
    "          p[i][j] = -f / (d * p[i][j - 1] + e);\n",
    "          q[i][j] = (-a * v[i - 1][j] + (1.0 + 2.0 * a) * v[i][j] - c * v[i + 1][j] - d * q[i][j - 1]) / (d * p[i][j - 1] + e);\n",
    "        }\n",
    "        u[i][60 - 1] = 1.0;\n",
    "        \n",
    "        for (j = 0; j <= 57; j++) {\n",
    "          int _in_j = 58 + -1 * j;\n",
    "          u[i][_in_j] = p[i][_in_j] * u[i][_in_j + 1] + q[i][_in_j];\n",
    "        }\n",
    "        j = 1 + -1;\n",
    "      }\n",
    "    }\n",
    "  }\n",
    "}\n",
    "\n",
    "'''\n",
    "# top k search\n",
    "import numpy as np\n",
    "k = 5\n",
    "query_embed = model.encode(query)\n",
    "score = []\n",
    "for t in txt:\n",
    "    score.append(query_embed.T @ t )\n",
    "    # score.append(np.linalg.norm(query_embed - t))\n",
    "indexed_list = sorted(enumerate(score), key=lambda x: x[1], reverse= True)\n",
    "# indexed_list = sorted(enumerate(score), key=lambda x: x[1], reverse= False)\n",
    "sorted_indices = [index for index, value in indexed_list]\n",
    "top_k_index = sorted_indices[:k]\n",
    "top_k_doc = []\n",
    "for i in top_k_index:\n",
    "    top_k_doc.append(texts[i])\n",
    "top_k_doc\n",
    "r_doc = []\n",
    "for t in top_k_doc:\n",
    "    r_doc.append(t.page_content)\n",
    "r_doc = r_doc[:3]"
   ]
  },
  {
   "cell_type": "code",
   "execution_count": 15,
   "metadata": {},
   "outputs": [
    {
     "data": {
      "text/plain": [
       "'Here are some examples of matrix multiplication code with pragma hls lines added\\nvoid krnl_vmult(uint32_t* in1, uint32_t* in2, uint32_t* out, int vSize) {\\n    static hls::stream<uint32_t> inStream1(\"input_stream_1\");\\n    static hls::stream<uint32_t> inStream2(\"input_stream_2\");\\n    static hls::stream<uint32_t> outStream(\"output_stream\");\\n#pragma HLS INTERFACE m_axi port = in1 bundle = gmem0 depth = 4096\\n#pragma HLS INTERFACE m_axi port = in2 bundle = gmem1 depth = 4096\\n#pragma HLS INTERFACE m_axi port = out bundle = gmem0 depth = 4096\\n\\n#pragma HLS dataflow\\n    // dataflow pragma instruct compiler to run following three APIs in parallel\\n    read_input(in1, inStream1, vSize);\\n    read_input(in2, inStream2, vSize);\\n    compute_mult(inStream1, inStream2, outStream, vSize);\\n    write_result(out, outStream, vSize);\\n}\\n},void firI1(data t ∗y, data t x);\\nvoid firQ1(data t ∗y, data t x);\\nvoid firI2(data t ∗y, data t x);\\nvoid firQ2(data t ∗y, data t x);,void firI1(data t ∗y, data t x);\\nvoid firQ1(data t ∗y, data t x);\\nvoid firI2(data t ∗y, data t x);\\nvoid firQ2(data t ∗y, data t x);,\\nNow try your best to optimize by inserting Pragma HLS lines:\\nvoid kernel_2mm(int ni,int nj,int nk,int nl,float alpha,float beta,float tmp[40][50],float A[40][70],float B[70][50],float C[50][80],float D[40][80])\\n{\\n  int i;\\n  int j;\\n  int k;\\n{\\n    for (i = 0; i < 40; i++) {\\n      for (j = 0; j < 50; j++) {\\n        tmp[i][j] = 0.0;\\n        \\n        for (k = 0; k < 70; ++k) {\\n          tmp[i][j] += alpha * A[i][k] * B[k][j];\\n        }\\n      }\\n    }\\n    for (i = 0; i < 40; i++) {\\n      for (j = 0; j < 80; j++) {\\n        D[i][j] *= beta;\\n        \\n        for (k = 0; k < 50; ++k) {\\n          D[i][j] += tmp[i][k] * C[k][j];\\n        }\\n      }\\n    }\\n  }\\n}\\nOnly output your optimized cod, do not output anything else'"
      ]
     },
     "execution_count": 15,
     "metadata": {},
     "output_type": "execute_result"
    }
   ],
   "source": [
    "prompt = f'''Here are some examples of matrix multiplication code with pragma hls lines added\n",
    "{\",\".join(r_doc)},\n",
    "Now try your best to optimize by inserting Pragma HLS lines:{query}\n",
    "Only output your optimized cod, do not output anything else'''\n",
    "prompt"
   ]
  },
  {
   "cell_type": "code",
   "execution_count": null,
   "metadata": {},
   "outputs": [],
   "source": []
  }
 ],
 "metadata": {
  "kernelspec": {
   "display_name": "Python 3",
   "language": "python",
   "name": "python3"
  },
  "language_info": {
   "codemirror_mode": {
    "name": "ipython",
    "version": 3
   },
   "file_extension": ".py",
   "mimetype": "text/x-python",
   "name": "python",
   "nbconvert_exporter": "python",
   "pygments_lexer": "ipython3",
   "version": "3.8.10"
  }
 },
 "nbformat": 4,
 "nbformat_minor": 2
}
