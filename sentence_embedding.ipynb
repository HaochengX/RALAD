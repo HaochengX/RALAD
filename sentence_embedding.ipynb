{
 "cells": [
  {
   "cell_type": "code",
   "execution_count": 1,
   "metadata": {},
   "outputs": [],
   "source": [
    "from langchain.callbacks.manager import CallbackManager\n",
    "from langchain.callbacks.streaming_stdout import StreamingStdOutCallbackHandler\n",
    "from langchain.chains import LLMChain\n",
    "from langchain.prompts import PromptTemplate"
   ]
  },
  {
   "cell_type": "code",
   "execution_count": 2,
   "metadata": {},
   "outputs": [],
   "source": [
    "from langchain_community.document_loaders.generic import GenericLoader\n",
    "from langchain_community.document_loaders.parsers import LanguageParser\n",
    "from langchain_text_splitters import Language\n",
    "repo_path = \"/home/haotian/Splitted_code\"\n",
    "\n",
    "loader = GenericLoader.from_filesystem(\n",
    "    repo_path,\n",
    "    glob=\"**/*\",\n",
    "    suffixes=[\".cpp\"],\n",
    "    # exclude=[\"**/non-utf8-encoding.py\"],\n",
    "    parser=LanguageParser(language=Language.CPP, parser_threshold=500),\n",
    ")\n",
    "documents = loader.load()\n",
    "# repo_path_2 = \"/home/ubuntu/Home_User/HHT_Documents/Index-source/book.txt\"\n",
    "\n",
    "# loader2 = GenericLoader.from_filesystem(\n",
    "#     repo_path_2,\n",
    "#     glob=\"**/*\",\n",
    "#     suffixes=[\".txt\"],\n",
    "#     # exclude=[\"**/non-utf8-encoding.py\"],\n",
    "#     parser=LanguageParser(language=Language.C, parser_threshold=500),\n",
    "# )\n",
    "# documents2 = loader2.load()"
   ]
  },
  {
   "cell_type": "code",
   "execution_count": 3,
   "metadata": {},
   "outputs": [
    {
     "data": {
      "text/plain": [
       "121"
      ]
     },
     "execution_count": 3,
     "metadata": {},
     "output_type": "execute_result"
    }
   ],
   "source": [
    "len(documents)\n",
    "from langchain_text_splitters import RecursiveCharacterTextSplitter\n",
    "\n",
    "python_splitter = RecursiveCharacterTextSplitter.from_language(\n",
    "    language=Language.CPP, chunk_size=1000, chunk_overlap=200\n",
    ")\n",
    "texts = python_splitter.split_documents(documents)\n",
    "len(texts)"
   ]
  },
  {
   "cell_type": "code",
   "execution_count": 4,
   "metadata": {},
   "outputs": [
    {
     "data": {
      "text/plain": [
       "array([768])"
      ]
     },
     "execution_count": 4,
     "metadata": {},
     "output_type": "execute_result"
    }
   ],
   "source": [
    "from sentence_transformers import SentenceTransformer, util\n",
    "model = SentenceTransformer(\"flax-sentence-embeddings/st-codesearch-distilroberta-base\")\n",
    "import numpy as np\n",
    "np.array(model.encode(texts[0].page_content).shape)"
   ]
  },
  {
   "cell_type": "code",
   "execution_count": 5,
   "metadata": {},
   "outputs": [],
   "source": [
    "txt = []\n",
    "for text in texts:\n",
    "    txt.append(np.array(model.encode(text.page_content)))"
   ]
  },
  {
   "cell_type": "code",
   "execution_count": 8,
   "metadata": {},
   "outputs": [],
   "source": [
    "query = '''\n",
    "Optimize this code by inserting Pragma lines\n",
    "void kernel_2mm(int ni,int nj,int nk,int nl,float alpha,float beta,float tmp[40][50],float A[40][70],float B[70][50],float C[50][80],float D[40][80])\n",
    "{\n",
    "  int i;\n",
    "  int j;\n",
    "  int k;\n",
    "{\n",
    "    for (i = 0; i < 40; i++) {\n",
    "      for (j = 0; j < 50; j++) {\n",
    "        tmp[i][j] = 0.0;\n",
    "        \n",
    "        for (k = 0; k < 70; ++k) {\n",
    "          tmp[i][j] += alpha * A[i][k] * B[k][j];\n",
    "        }\n",
    "      }\n",
    "    }\n",
    "    for (i = 0; i < 40; i++) {\n",
    "      for (j = 0; j < 80; j++) {\n",
    "        D[i][j] *= beta;\n",
    "        \n",
    "        for (k = 0; k < 50; ++k) {\n",
    "          D[i][j] += tmp[i][k] * C[k][j];\n",
    "        }\n",
    "      }\n",
    "    }\n",
    "  }\n",
    "}'''\n",
    "# top k search\n",
    "import numpy as np\n",
    "k = 5\n",
    "query_embed = model.encode(query)\n",
    "score = []\n",
    "for t in txt:\n",
    "    score.append(query_embed.T @ t )\n",
    "    # score.append(np.linalg.norm(query_embed - t))\n",
    "indexed_list = sorted(enumerate(score), key=lambda x: x[1], reverse= True)\n",
    "# indexed_list = sorted(enumerate(score), key=lambda x: x[1], reverse= False)\n",
    "sorted_indices = [index for index, value in indexed_list]\n",
    "top_k_index = sorted_indices[:k]\n",
    "top_k_doc = []\n",
    "for i in top_k_index:\n",
    "    top_k_doc.append(texts[i])\n",
    "top_k_doc\n",
    "r_doc = []\n",
    "for t in top_k_doc:\n",
    "    r_doc.append(t.page_content)\n",
    "r_doc = r_doc[:2]"
   ]
  },
  {
   "cell_type": "code",
   "execution_count": 9,
   "metadata": {},
   "outputs": [
    {
     "data": {
      "text/plain": [
       "'Here are some examples of matrix multiplication code with pragma hls lines addedvoid funcA(data_t* in, data_t* out1, data_t* out2) {\\nLoop0:\\n    for (int i = 0; i < N; i++) {\\n#pragma HLS pipeline rewind\\n#pragma HLS unroll factor = 2\\n        data_t t = in[i] * 3;\\n        out1[i] = t;\\n        out2[i] = t;\\n    }\\n}\\n\\nvoid funcB(data_t* in, data_t* out) {\\nLoop0:\\n    for (int i = 0; i < N; i++) {\\n#pragma HLS pipeline rewind\\n#pragma HLS unroll factor = 2\\n        out[i] = in[i] + 25;\\n    }\\n}\\n\\nvoid funcC(data_t* in, data_t* out) {\\nLoop0:\\n    for (data_t i = 0; i < N; i++) {\\n#pragma HLS pipeline rewind\\n#pragma HLS unroll factor = 2\\n        out[i] = in[i] * 2;\\n    }\\n}\\n\\nvoid funcD(data_t* in1, data_t* in2, data_t* out) {\\nLoop0:\\n    for (int i = 0; i < N; i++) {\\n#pragma HLS pipeline rewind\\n#pragma HLS unroll factor = 2\\n        out[i] = in1[i] + in2[i] * 2;\\n    }\\n},void funcA(data_t* in, data_t* out1, data_t* out2) {\\n#pragma HLS inline off\\nLoop0:\\n    for (int i = 0; i < N; i++) {\\n#pragma HLS pipeline\\n        data_t t = in[i] * 3;\\n        out1[i] = t;\\n        out2[i] = t;\\n    }\\n}\\n\\nvoid funcB(data_t* in, data_t* out) {\\n#pragma HLS inline off\\nLoop0:\\n    for (int i = 0; i < N; i++) {\\n#pragma HLS pipeline\\n        out[i] = in[i] + 25;\\n    }\\n}\\n\\nvoid funcC(data_t* in, data_t* out) {\\n#pragma HLS inline off\\nLoop0:\\n    for (data_t i = 0; i < N; i++) {\\n#pragma HLS pipeline\\n        out[i] = in[i] * 2;\\n    }\\n}\\n\\nvoid funcD(data_t* in1, data_t* in2, data_t* out) {\\n#pragma HLS inline off\\nLoop0:\\n    for (int i = 0; i < N; i++) {\\n#pragma HLS pipeline\\n        out[i] = in1[i] + in2[i] * 2;\\n    }\\n},\\nNow try your best to replace <FILL> with Pragma HLS lines:\\nOptimize this code by inserting Pragma lines\\nvoid kernel_2mm(int ni,int nj,int nk,int nl,float alpha,float beta,float tmp[40][50],float A[40][70],float B[70][50],float C[50][80],float D[40][80])\\n{\\n  int i;\\n  int j;\\n  int k;\\n{\\n    for (i = 0; i < 40; i++) {\\n      for (j = 0; j < 50; j++) {\\n        tmp[i][j] = 0.0;\\n        \\n        for (k = 0; k < 70; ++k) {\\n          tmp[i][j] += alpha * A[i][k] * B[k][j];\\n        }\\n      }\\n    }\\n    for (i = 0; i < 40; i++) {\\n      for (j = 0; j < 80; j++) {\\n        D[i][j] *= beta;\\n        \\n        for (k = 0; k < 50; ++k) {\\n          D[i][j] += tmp[i][k] * C[k][j];\\n        }\\n      }\\n    }\\n  }\\n}'"
      ]
     },
     "execution_count": 9,
     "metadata": {},
     "output_type": "execute_result"
    }
   ],
   "source": [
    "prompt = f'''Here are some examples of matrix multiplication code with pragma hls lines added{\",\".join(r_doc)},\n",
    "Now try your best to replace <FILL> with Pragma HLS lines:{query}'''\n",
    "prompt"
   ]
  },
  {
   "cell_type": "code",
   "execution_count": null,
   "metadata": {},
   "outputs": [],
   "source": []
  }
 ],
 "metadata": {
  "kernelspec": {
   "display_name": "Python 3",
   "language": "python",
   "name": "python3"
  },
  "language_info": {
   "codemirror_mode": {
    "name": "ipython",
    "version": 3
   },
   "file_extension": ".py",
   "mimetype": "text/x-python",
   "name": "python",
   "nbconvert_exporter": "python",
   "pygments_lexer": "ipython3",
   "version": "3.8.10"
  }
 },
 "nbformat": 4,
 "nbformat_minor": 2
}
